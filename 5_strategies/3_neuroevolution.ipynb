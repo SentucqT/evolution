{
 "cells": [
  {
   "cell_type": "markdown",
   "metadata": {},
   "source": [
    "<img src=\"../imgs/logo.png\" width=\"20%\" align=\"right\" style=\"margin:0px 20px\">\n",
    "\n",
    "\n",
    "# Evolutionary Computation\n",
    "\n",
    "## 5.3 Deep Neuroevolution\n",
    "\n",
    "<a rel=\"license\" href=\"http://creativecommons.org/licenses/by-sa/4.0/\"><img alt=\"Creative Commons License\" align=\"left\" src=\"https://i.creativecommons.org/l/by-sa/4.0/80x15.png\" /></a>&nbsp;| Dennis G. Wilson | <a href=\"https://d9w.github.io/evolution/\">https://d9w.github.io/evolution/</a>"
   ]
  },
  {
   "cell_type": "code",
   "execution_count": 3,
   "metadata": {},
   "outputs": [],
   "source": [
    "using PyCall\n",
    "using Conda"
   ]
  },
  {
   "cell_type": "code",
   "execution_count": 4,
   "metadata": {
    "scrolled": true
   },
   "outputs": [
    {
     "name": "stderr",
     "output_type": "stream",
     "text": [
      "┌ Info: Running `conda install -y gym` in root environment\n",
      "└ @ Conda C:\\Users\\thoma\\.julia\\packages\\Conda\\3rPhK\\src\\Conda.jl:113\n"
     ]
    },
    {
     "name": "stdout",
     "output_type": "stream",
     "text": [
      "Collecting package metadata (current_repodata.json): ...working... done\n",
      "Solving environment: ...working... failed with initial frozen solve. Retrying with flexible solve.\n",
      "Collecting package metadata (repodata.json): ...working... done\n",
      "Solving environment: ...working... failed with initial frozen solve. Retrying with flexible solve.\n"
     ]
    },
    {
     "name": "stderr",
     "output_type": "stream",
     "text": [
      "\r\n",
      "PackagesNotFoundError: The following packages are not available from current channels:\r\n",
      "\r\n",
      "  - gym\r\n",
      "\r\n",
      "Current channels:\r\n",
      "\r\n",
      "  - https://repo.anaconda.com/pkgs/main/win-64\r\n",
      "  - https://repo.anaconda.com/pkgs/main/noarch\r\n",
      "  - https://repo.anaconda.com/pkgs/r/win-64\r\n",
      "  - https://repo.anaconda.com/pkgs/r/noarch\r\n",
      "  - https://repo.anaconda.com/pkgs/msys2/win-64\r\n",
      "  - https://repo.anaconda.com/pkgs/msys2/noarch\r\n",
      "\r\n",
      "To search for alternate channels that may provide the conda package you're\r\n",
      "looking for, navigate to\r\n",
      "\r\n",
      "    https://anaconda.org\r\n",
      "\r\n",
      "and use the search bar at the top of the page.\r\n",
      "\r\n",
      "\r\n"
     ]
    },
    {
     "ename": "ProcessFailedException",
     "evalue": "failed process: Process(setenv(`'C:\\Users\\thoma\\.julia\\conda\\3\\Scripts\\conda.exe' install -y gym`,[\"PATH=C:\\\\Users\\\\thoma\\\\.julia\\\\conda\\\\3\\\\Library\\\\bin;C:\\\\Users\\\\thoma\\\\.julia\\\\conda\\\\3\\\\Library\\\\bin;C:\\\\Users\\\\thoma\\\\Anaconda3;C:\\\\Users\\\\thoma\\\\Anaconda3\\\\Library\\\\mingw-w64\\\\bin;C:\\\\Users\\\\thoma\\\\Anaconda3\\\\Library\\\\usr\\\\bin;C:\\\\Users\\\\thoma\\\\Anaconda3\\\\Library\\\\bin;C:\\\\Users\\\\thoma\\\\Anaconda3\\\\Scripts;C:\\\\Program Files (x86)\\\\Common Files\\\\Oracle\\\\Java\\\\javapath;C:\\\\Program Files (x86)\\\\Intel\\\\iCLS Client\\\\;C:\\\\Program Files\\\\Intel\\\\iCLS Client\\\\;C:\\\\WINDOWS\\\\system32;C:\\\\WINDOWS;C:\\\\WINDOWS\\\\System32\\\\Wbem;C:\\\\WINDOWS\\\\System32\\\\WindowsPowerShell\\\\v1.0\\\\;C:\\\\Program Files (x86)\\\\Intel\\\\Intel(R) Management Engine Components\\\\DAL;C:\\\\Program Files\\\\Intel\\\\Intel(R) Management Engine Components\\\\DAL;C:\\\\Program Files (x86)\\\\Intel\\\\Intel(R) Management Engine Components\\\\IPT;C:\\\\Program Files\\\\Intel\\\\Intel(R) Management Engine Components\\\\IPT;C:\\\\WINDOWS\\\\System32\\\\OpenSSH\\\\;C:\\\\TDM_GCC_64\\\\bin;C:\\\\Program Files\\\\Intel\\\\WiFi\\\\bin\\\\;C:\\\\Program Files\\\\Common Files\\\\Intel\\\\WirelessCommon\\\\;C:\\\\Program Files\\\\MATLAB\\\\R2019b\\\\bin;C:\\\\Users\\\\thoma\\\\AppData\\\\Local\\\\Microsoft\\\\WindowsApps;C:\\\\Users\\\\thoma\\\\AppData\\\\Local\\\\GitHubDesktop\\\\bin;C:\\\\Users\\\\thoma\\\\AppData\\\\Local\\\\atom\\\\bin\", \"USERDOMAIN_ROAMINGPROFILE=DESKTOP-MJDA7R2\", \"HOMEPATH=\\\\Users\\\\thoma\", \"PATHEXT=.COM;.EXE;.BAT;.CMD;.VBS;.VBE;.JS;.JSE;.WSF;.WSH;.MSC\", \"SESSIONNAME=Console\", \"SYSTEMROOT=C:\\\\WINDOWS\", \"APPDATA=C:\\\\Users\\\\thoma\\\\AppData\\\\Roaming\", \"PSMODULEPATH=C:\\\\Program Files\\\\WindowsPowerShell\\\\Modules;C:\\\\WINDOWS\\\\system32\\\\WindowsPowerShell\\\\v1.0\\\\Modules\", \"COMMONPROGRAMW6432=C:\\\\Program Files\\\\Common Files\", \"PROGRAMDATA=C:\\\\ProgramData\", \"PUBLIC=C:\\\\Users\\\\Public\", \"USERDOMAIN=DESKTOP-MJDA7R2\", \"OS=Windows_NT\", \"PROCESSOR_REVISION=8e09\", \"TMP=C:\\\\Users\\\\thoma\\\\AppData\\\\Local\\\\Temp\", \"COMSPEC=C:\\\\WINDOWS\\\\system32\\\\cmd.exe\", \"ALLUSERSPROFILE=C:\\\\ProgramData\", \"COMPUTERNAME=DESKTOP-MJDA7R2\", \"USERNAME=thoma\", \"COLUMNS=80\", \"IPY_INTERRUPT_EVENT=2144\", \"CONDARC=C:\\\\Users\\\\thoma\\\\.julia\\\\conda\\\\3\\\\condarc-julia.yml\", \"ONEDRIVECONSUMER=C:\\\\Users\\\\thoma\\\\OneDrive\", \"USERPROFILE=C:\\\\Users\\\\thoma\", \"PROCESSOR_LEVEL=6\", \"LINES=30\", \"PROGRAMW6432=C:\\\\Program Files\", \"TEMP=C:\\\\Users\\\\thoma\\\\AppData\\\\Local\\\\Temp\", \"HOMEDRIVE=C:\", \"PYTHONIOENCODING=UTF-8\", \"WINDIR=C:\\\\WINDOWS\", \"JPY_INTERRUPT_EVENT=2144\", \"LOCALAPPDATA=C:\\\\Users\\\\thoma\\\\AppData\\\\Local\", \"PROCESSOR_IDENTIFIER=Intel64 Family 6 Model 142 Stepping 9, GenuineIntel\", \"NUMBER_OF_PROCESSORS=4\", \"COMMONPROGRAMFILES(X86)=C:\\\\Program Files (x86)\\\\Common Files\", \"COMMONPROGRAMFILES=C:\\\\Program Files\\\\Common Files\", \"ONEDRIVE=C:\\\\Users\\\\thoma\\\\OneDrive\", \"PROGRAMFILES(X86)=C:\\\\Program Files (x86)\", \"PROGRAMFILES=C:\\\\Program Files\", \"JPY_PARENT_PID=1524\", \"LOGONSERVER=\\\\\\\\DESKTOP-MJDA7R2\", \"DRIVERDATA=C:\\\\Windows\\\\System32\\\\Drivers\\\\DriverData\", \"CONDA_PREFIX=C:\\\\Users\\\\thoma\\\\.julia\\\\conda\\\\3\", \"SYSTEMDRIVE=C:\", \"PROCESSOR_ARCHITECTURE=AMD64\", \"OPENBLAS_MAIN_FREE=1\"]), ProcessExited(1)) [1]\n",
     "output_type": "error",
     "traceback": [
      "failed process: Process(setenv(`'C:\\Users\\thoma\\.julia\\conda\\3\\Scripts\\conda.exe' install -y gym`,[\"PATH=C:\\\\Users\\\\thoma\\\\.julia\\\\conda\\\\3\\\\Library\\\\bin;C:\\\\Users\\\\thoma\\\\.julia\\\\conda\\\\3\\\\Library\\\\bin;C:\\\\Users\\\\thoma\\\\Anaconda3;C:\\\\Users\\\\thoma\\\\Anaconda3\\\\Library\\\\mingw-w64\\\\bin;C:\\\\Users\\\\thoma\\\\Anaconda3\\\\Library\\\\usr\\\\bin;C:\\\\Users\\\\thoma\\\\Anaconda3\\\\Library\\\\bin;C:\\\\Users\\\\thoma\\\\Anaconda3\\\\Scripts;C:\\\\Program Files (x86)\\\\Common Files\\\\Oracle\\\\Java\\\\javapath;C:\\\\Program Files (x86)\\\\Intel\\\\iCLS Client\\\\;C:\\\\Program Files\\\\Intel\\\\iCLS Client\\\\;C:\\\\WINDOWS\\\\system32;C:\\\\WINDOWS;C:\\\\WINDOWS\\\\System32\\\\Wbem;C:\\\\WINDOWS\\\\System32\\\\WindowsPowerShell\\\\v1.0\\\\;C:\\\\Program Files (x86)\\\\Intel\\\\Intel(R) Management Engine Components\\\\DAL;C:\\\\Program Files\\\\Intel\\\\Intel(R) Management Engine Components\\\\DAL;C:\\\\Program Files (x86)\\\\Intel\\\\Intel(R) Management Engine Components\\\\IPT;C:\\\\Program Files\\\\Intel\\\\Intel(R) Management Engine Components\\\\IPT;C:\\\\WINDOWS\\\\System32\\\\OpenSSH\\\\;C:\\\\TDM_GCC_64\\\\bin;C:\\\\Program Files\\\\Intel\\\\WiFi\\\\bin\\\\;C:\\\\Program Files\\\\Common Files\\\\Intel\\\\WirelessCommon\\\\;C:\\\\Program Files\\\\MATLAB\\\\R2019b\\\\bin;C:\\\\Users\\\\thoma\\\\AppData\\\\Local\\\\Microsoft\\\\WindowsApps;C:\\\\Users\\\\thoma\\\\AppData\\\\Local\\\\GitHubDesktop\\\\bin;C:\\\\Users\\\\thoma\\\\AppData\\\\Local\\\\atom\\\\bin\", \"USERDOMAIN_ROAMINGPROFILE=DESKTOP-MJDA7R2\", \"HOMEPATH=\\\\Users\\\\thoma\", \"PATHEXT=.COM;.EXE;.BAT;.CMD;.VBS;.VBE;.JS;.JSE;.WSF;.WSH;.MSC\", \"SESSIONNAME=Console\", \"SYSTEMROOT=C:\\\\WINDOWS\", \"APPDATA=C:\\\\Users\\\\thoma\\\\AppData\\\\Roaming\", \"PSMODULEPATH=C:\\\\Program Files\\\\WindowsPowerShell\\\\Modules;C:\\\\WINDOWS\\\\system32\\\\WindowsPowerShell\\\\v1.0\\\\Modules\", \"COMMONPROGRAMW6432=C:\\\\Program Files\\\\Common Files\", \"PROGRAMDATA=C:\\\\ProgramData\", \"PUBLIC=C:\\\\Users\\\\Public\", \"USERDOMAIN=DESKTOP-MJDA7R2\", \"OS=Windows_NT\", \"PROCESSOR_REVISION=8e09\", \"TMP=C:\\\\Users\\\\thoma\\\\AppData\\\\Local\\\\Temp\", \"COMSPEC=C:\\\\WINDOWS\\\\system32\\\\cmd.exe\", \"ALLUSERSPROFILE=C:\\\\ProgramData\", \"COMPUTERNAME=DESKTOP-MJDA7R2\", \"USERNAME=thoma\", \"COLUMNS=80\", \"IPY_INTERRUPT_EVENT=2144\", \"CONDARC=C:\\\\Users\\\\thoma\\\\.julia\\\\conda\\\\3\\\\condarc-julia.yml\", \"ONEDRIVECONSUMER=C:\\\\Users\\\\thoma\\\\OneDrive\", \"USERPROFILE=C:\\\\Users\\\\thoma\", \"PROCESSOR_LEVEL=6\", \"LINES=30\", \"PROGRAMW6432=C:\\\\Program Files\", \"TEMP=C:\\\\Users\\\\thoma\\\\AppData\\\\Local\\\\Temp\", \"HOMEDRIVE=C:\", \"PYTHONIOENCODING=UTF-8\", \"WINDIR=C:\\\\WINDOWS\", \"JPY_INTERRUPT_EVENT=2144\", \"LOCALAPPDATA=C:\\\\Users\\\\thoma\\\\AppData\\\\Local\", \"PROCESSOR_IDENTIFIER=Intel64 Family 6 Model 142 Stepping 9, GenuineIntel\", \"NUMBER_OF_PROCESSORS=4\", \"COMMONPROGRAMFILES(X86)=C:\\\\Program Files (x86)\\\\Common Files\", \"COMMONPROGRAMFILES=C:\\\\Program Files\\\\Common Files\", \"ONEDRIVE=C:\\\\Users\\\\thoma\\\\OneDrive\", \"PROGRAMFILES(X86)=C:\\\\Program Files (x86)\", \"PROGRAMFILES=C:\\\\Program Files\", \"JPY_PARENT_PID=1524\", \"LOGONSERVER=\\\\\\\\DESKTOP-MJDA7R2\", \"DRIVERDATA=C:\\\\Windows\\\\System32\\\\Drivers\\\\DriverData\", \"CONDA_PREFIX=C:\\\\Users\\\\thoma\\\\.julia\\\\conda\\\\3\", \"SYSTEMDRIVE=C:\", \"PROCESSOR_ARCHITECTURE=AMD64\", \"OPENBLAS_MAIN_FREE=1\"]), ProcessExited(1)) [1]\n",
      "",
      "Stacktrace:",
      " [1] pipeline_error at .\\process.jl:525 [inlined]",
      " [2] run(::Cmd; wait::Bool) at .\\process.jl:440",
      " [3] run at .\\process.jl:438 [inlined]",
      " [4] runconda(::Cmd, ::String) at C:\\Users\\thoma\\.julia\\packages\\Conda\\3rPhK\\src\\Conda.jl:114",
      " [5] add(::String, ::String; channel::String) at C:\\Users\\thoma\\.julia\\packages\\Conda\\3rPhK\\src\\Conda.jl:188",
      " [6] add at C:\\Users\\thoma\\.julia\\packages\\Conda\\3rPhK\\src\\Conda.jl:187 [inlined] (repeats 2 times)",
      " [7] top-level scope at In[4]:1"
     ]
    }
   ],
   "source": [
    "Conda.add(\"gym\")"
   ]
  },
  {
   "cell_type": "code",
   "execution_count": 5,
   "metadata": {},
   "outputs": [],
   "source": [
    "import Random\n",
    "Random.seed!(1234);"
   ]
  },
  {
   "cell_type": "code",
   "execution_count": 6,
   "metadata": {},
   "outputs": [],
   "source": [
    "include(\"cmaes.jl\");"
   ]
  },
  {
   "cell_type": "code",
   "execution_count": 7,
   "metadata": {},
   "outputs": [],
   "source": [
    "struct FCLayer\n",
    "    w::Array{Float64}\n",
    "    b::Array{Float64}\n",
    "end\n",
    "\n",
    "struct SimpleANN\n",
    "    l1::FCLayer\n",
    "    l2::FCLayer\n",
    "    out::FCLayer\n",
    "end"
   ]
  },
  {
   "cell_type": "code",
   "execution_count": 8,
   "metadata": {},
   "outputs": [
    {
     "data": {
      "text/plain": [
       "SimpleANN"
      ]
     },
     "execution_count": 8,
     "metadata": {},
     "output_type": "execute_result"
    }
   ],
   "source": [
    "function SimpleANN(input::Int, N1::Int, N2::Int, output::Int)\n",
    "    l1 = FCLayer(zeros(N1, input), zeros(N1))\n",
    "    l2 = FCLayer(zeros(N2, N1), zeros(N2))\n",
    "    out = FCLayer(zeros(output, N2), zeros(output))\n",
    "    SimpleANN(l1, l2, out)\n",
    "end"
   ]
  },
  {
   "cell_type": "code",
   "execution_count": 9,
   "metadata": {},
   "outputs": [],
   "source": [
    "ann = SimpleANN(5, 64, 64, 4);"
   ]
  },
  {
   "cell_type": "code",
   "execution_count": 10,
   "metadata": {},
   "outputs": [
    {
     "data": {
      "text/plain": [
       "compute (generic function with 1 method)"
      ]
     },
     "execution_count": 10,
     "metadata": {},
     "output_type": "execute_result"
    }
   ],
   "source": [
    "function compute(inputs::Array{Float64}, ann::SimpleANN)\n",
    "    x = ann.l1.w * inputs .+ ann.l1.b\n",
    "    x = ann.l2.w * x .+ ann.l2.b\n",
    "    x = ann.out.w * x .+ ann.out.b\n",
    "    x\n",
    "end"
   ]
  },
  {
   "cell_type": "code",
   "execution_count": 11,
   "metadata": {},
   "outputs": [
    {
     "data": {
      "text/plain": [
       "4-element Array{Float64,1}:\n",
       " 0.0\n",
       " 0.0\n",
       " 0.0\n",
       " 0.0"
      ]
     },
     "execution_count": 11,
     "metadata": {},
     "output_type": "execute_result"
    }
   ],
   "source": [
    "compute(zeros(5), ann)"
   ]
  },
  {
   "cell_type": "code",
   "execution_count": 12,
   "metadata": {},
   "outputs": [
    {
     "ename": "PyCall.PyError",
     "evalue": "PyError (PyImport_ImportModule\n\nThe Python package gym could not be found by pyimport. Usually this means\nthat you did not install gym in the Python version being used by PyCall.\n\nPyCall is currently configured to use the Julia-specific Python distribution\ninstalled by the Conda.jl package.  To install the gym module, you can\nuse `pyimport_conda(\"gym\", PKG)`, where PKG is the Anaconda\npackage the contains the module gym, or alternatively you can use the\nConda package directly (via `using Conda` followed by `Conda.add` etcetera).\n\nAlternatively, if you want to use a different Python distribution on your\nsystem, such as a system-wide Python (as opposed to the Julia-specific Python),\nyou can re-configure PyCall with that Python.   As explained in the PyCall\ndocumentation, set ENV[\"PYTHON\"] to the path/name of the python executable\nyou want to use, run Pkg.build(\"PyCall\"), and re-launch Julia.\n\n) <class 'ModuleNotFoundError'>\nModuleNotFoundError(\"No module named 'gym'\")\n",
     "output_type": "error",
     "traceback": [
      "PyError (PyImport_ImportModule\n\nThe Python package gym could not be found by pyimport. Usually this means\nthat you did not install gym in the Python version being used by PyCall.\n\nPyCall is currently configured to use the Julia-specific Python distribution\ninstalled by the Conda.jl package.  To install the gym module, you can\nuse `pyimport_conda(\"gym\", PKG)`, where PKG is the Anaconda\npackage the contains the module gym, or alternatively you can use the\nConda package directly (via `using Conda` followed by `Conda.add` etcetera).\n\nAlternatively, if you want to use a different Python distribution on your\nsystem, such as a system-wide Python (as opposed to the Julia-specific Python),\nyou can re-configure PyCall with that Python.   As explained in the PyCall\ndocumentation, set ENV[\"PYTHON\"] to the path/name of the python executable\nyou want to use, run Pkg.build(\"PyCall\"), and re-launch Julia.\n\n) <class 'ModuleNotFoundError'>\nModuleNotFoundError(\"No module named 'gym'\")\n",
      "",
      "Stacktrace:",
      " [1] pyimport(::String) at C:\\Users\\thoma\\.julia\\packages\\PyCall\\zqDXB\\src\\PyCall.jl:536",
      " [2] top-level scope at In[12]:1"
     ]
    }
   ],
   "source": [
    "gym = pyimport(\"gym\")"
   ]
  },
  {
   "cell_type": "code",
   "execution_count": null,
   "metadata": {},
   "outputs": [],
   "source": [
    "env = gym.make(\"CartPole-v1\")\n",
    "n_in = 4\n",
    "n_out = 2;"
   ]
  },
  {
   "cell_type": "code",
   "execution_count": null,
   "metadata": {},
   "outputs": [],
   "source": [
    "function play_env(ann::SimpleANN; render=false)\n",
    "    env = gym.make(\"CartPole-v1\")\n",
    "    env.seed(0)\n",
    "    obs = env.reset()\n",
    "    total_reward = 0.0\n",
    "    done = false\n",
    "    \n",
    "    while ~done\n",
    "        action = argmax(compute(obs, ann))-1\n",
    "        obs, reward, done, _ = env.step(action)\n",
    "        if render\n",
    "            env.render()\n",
    "        end\n",
    "        total_reward += reward\n",
    "    end\n",
    "    env.close()\n",
    "    env = nothing\n",
    "    Base.GC.gc()\n",
    "    total_reward\n",
    "end"
   ]
  },
  {
   "cell_type": "code",
   "execution_count": null,
   "metadata": {},
   "outputs": [],
   "source": [
    "ann = SimpleANN(n_in, 5, 5, n_out)\n",
    "play_env(ann; render=true)"
   ]
  },
  {
   "cell_type": "code",
   "execution_count": null,
   "metadata": {},
   "outputs": [],
   "source": [
    "play_env(ann)"
   ]
  },
  {
   "cell_type": "code",
   "execution_count": null,
   "metadata": {},
   "outputs": [],
   "source": [
    "function genes_to_ann(genes::Array{Float64})\n",
    "    ann = SimpleANN(n_in, 5, 5, n_out)\n",
    "    layers = [ann.l1.w, ann.l1.b, ann.l2.w, ann.l2.b, ann.out.w, ann.out.b]\n",
    "    L = 1\n",
    "    j = 1\n",
    "    for i in eachindex(genes)\n",
    "        if j > length(layers[L])\n",
    "            L += 1\n",
    "            j = 1\n",
    "        end\n",
    "        layers[L][j] = genes[i]\n",
    "        j += 1\n",
    "    end\n",
    "    ann\n",
    "end"
   ]
  },
  {
   "cell_type": "code",
   "execution_count": null,
   "metadata": {},
   "outputs": [],
   "source": [
    "function objective(genes::Array{Float64})\n",
    "    ann = genes_to_ann(genes)\n",
    "    -play_env(ann)\n",
    "end"
   ]
  },
  {
   "cell_type": "code",
   "execution_count": null,
   "metadata": {},
   "outputs": [],
   "source": [
    "N = n_in*5 + 5 + 5*5 + 5 + 5*n_out + n_out"
   ]
  },
  {
   "cell_type": "code",
   "execution_count": null,
   "metadata": {},
   "outputs": [],
   "source": [
    "ann = genes_to_ann(randn(N))"
   ]
  },
  {
   "cell_type": "code",
   "execution_count": null,
   "metadata": {},
   "outputs": [],
   "source": [
    "play_env(ann)"
   ]
  },
  {
   "cell_type": "code",
   "execution_count": null,
   "metadata": {},
   "outputs": [],
   "source": [
    "play_env(ann)"
   ]
  },
  {
   "cell_type": "code",
   "execution_count": null,
   "metadata": {},
   "outputs": [],
   "source": [
    "c = CMAES(N=N, µ=10, λ=30, τ=sqrt(N), τ_c=N^2, τ_σ=sqrt(N))\n",
    "for i in 1:5\n",
    "    step!(c, objective)\n",
    "    println(i, \" \", maximum(.-c.F_λ))\n",
    "end"
   ]
  },
  {
   "cell_type": "code",
   "execution_count": null,
   "metadata": {},
   "outputs": [],
   "source": [
    "best = nothing\n",
    "best_fit = -Inf\n",
    "c = CMAES(N=N, µ=10, λ=30, τ=sqrt(N), τ_c=N^2, τ_σ=sqrt(N))\n",
    "for i in 1:20\n",
    "    step!(c, objective)\n",
    "    bestind = argmin(c.F_λ)\n",
    "    maxfit = -c.F_λ[bestind]\n",
    "    println(i, \" \", maxfit)\n",
    "    if maxfit > best_fit\n",
    "        best = copy(c.offspring[bestind])\n",
    "        best_fit = maxfit\n",
    "    end\n",
    "    if best_fit == 500\n",
    "        break\n",
    "    end\n",
    "end"
   ]
  },
  {
   "cell_type": "code",
   "execution_count": null,
   "metadata": {},
   "outputs": [],
   "source": [
    "ann = genes_to_ann(best)\n",
    "play_env(ann; render=true)"
   ]
  },
  {
   "cell_type": "code",
   "execution_count": null,
   "metadata": {},
   "outputs": [],
   "source": []
  }
 ],
 "metadata": {
  "@webio": {
   "lastCommId": null,
   "lastKernelId": null
  },
  "kernelspec": {
   "display_name": "Julia 1.4.0",
   "language": "julia",
   "name": "julia-1.4"
  },
  "language_info": {
   "file_extension": ".jl",
   "mimetype": "application/julia",
   "name": "julia",
   "version": "1.4.0"
  }
 },
 "nbformat": 4,
 "nbformat_minor": 2
}
