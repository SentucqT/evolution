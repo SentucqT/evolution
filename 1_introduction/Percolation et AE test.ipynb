{
 "cells": [
  {
   "cell_type": "code",
   "execution_count": 4,
   "metadata": {},
   "outputs": [],
   "source": [
    "using Plots\n",
    "using Random\n",
    "using Statistics\n",
    "using StatsPlots, StatsPlots.PlotMeasures"
   ]
  },
  {
   "cell_type": "code",
   "execution_count": 162,
   "metadata": {
    "scrolled": true
   },
   "outputs": [
    {
     "data": {
      "text/plain": [
       "10×10 Array{Bool,2}:\n",
       " 0  0  1  0  0  0  1  0  1  1\n",
       " 0  0  1  1  1  1  1  1  0  1\n",
       " 0  0  0  1  1  0  0  0  0  0\n",
       " 0  1  1  0  1  1  1  1  0  1\n",
       " 0  1  1  0  1  1  0  0  0  0\n",
       " 1  1  0  1  0  1  0  0  1  1\n",
       " 1  1  1  0  0  1  0  0  1  0\n",
       " 1  1  0  0  0  0  0  0  1  0\n",
       " 0  1  0  0  1  1  1  1  0  0\n",
       " 1  0  0  0  0  1  0  0  0  1"
      ]
     },
     "execution_count": 162,
     "metadata": {},
     "output_type": "execute_result"
    }
   ],
   "source": [
    "mutable struct square\n",
    "    body::Array{Bool}\n",
    "    size::Int64\n",
    "    score::Int64\n",
    "end\n",
    "\n",
    "function square(n::Int64)\n",
    "    square(bitrand(n,n),n,0)\n",
    "end\n",
    "\n",
    "function onemax!(sq::square)\n",
    "    sq.score = sum(sq.body)\n",
    "end\n",
    "\n",
    "a = square(10)\n",
    "a.body\n"
   ]
  },
  {
   "cell_type": "code",
   "execution_count": 163,
   "metadata": {},
   "outputs": [
    {
     "data": {
      "text/plain": [
       "10×10 Array{Bool,2}:\n",
       " 0  0  1  0  0  0  1  0  0  1\n",
       " 0  0  1  1  1  1  1  1  0  1\n",
       " 0  0  1  1  1  0  0  0  0  0\n",
       " 0  1  1  0  1  0  1  1  0  1\n",
       " 0  1  1  0  1  1  0  0  0  0\n",
       " 1  1  0  1  0  1  0  0  1  1\n",
       " 1  1  1  0  0  0  1  0  0  1\n",
       " 1  1  0  0  0  0  0  0  1  0\n",
       " 0  1  0  0  1  1  1  1  0  0\n",
       " 1  1  0  0  0  1  0  0  0  1"
      ]
     },
     "execution_count": 163,
     "metadata": {},
     "output_type": "execute_result"
    }
   ],
   "source": [
    "function mutate!(sq::square;p::Float64 = 1/sq.size)\n",
    "    for i in eachindex(a.body)\n",
    "        if rand()<p\n",
    "            a.body[i] = ~a.body[i]\n",
    "        end\n",
    "    end\n",
    "end\n",
    "\n",
    "mutate!(a)\n",
    "println(a.body)"
   ]
  }
 ],
 "metadata": {
  "kernelspec": {
   "display_name": "Julia 1.4.0",
   "language": "julia",
   "name": "julia-1.4"
  },
  "language_info": {
   "file_extension": ".jl",
   "mimetype": "application/julia",
   "name": "julia",
   "version": "1.4.0"
  }
 },
 "nbformat": 4,
 "nbformat_minor": 2
}
